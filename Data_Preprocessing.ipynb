{
 "cells": [
  {
   "cell_type": "markdown",
   "id": "bf3c9d88",
   "metadata": {},
   "source": [
    "First, we inspect the data and check for missing values."
   ]
  },
  {
   "cell_type": "code",
   "execution_count": 7,
   "id": "8759a960",
   "metadata": {},
   "outputs": [
    {
     "name": "stdout",
     "output_type": "stream",
     "text": [
      "             Survived  Pclass  \\\n",
      "PassengerId                     \n",
      "1                   0       3   \n",
      "2                   1       1   \n",
      "3                   1       3   \n",
      "4                   1       1   \n",
      "5                   0       3   \n",
      "\n",
      "                                                          Name     Sex   Age  \\\n",
      "PassengerId                                                                    \n",
      "1                                      Braund, Mr. Owen Harris    male  22.0   \n",
      "2            Cumings, Mrs. John Bradley (Florence Briggs Th...  female  38.0   \n",
      "3                                       Heikkinen, Miss. Laina  female  26.0   \n",
      "4                 Futrelle, Mrs. Jacques Heath (Lily May Peel)  female  35.0   \n",
      "5                                     Allen, Mr. William Henry    male  35.0   \n",
      "\n",
      "             SibSp  Parch            Ticket     Fare Cabin Embarked  \n",
      "PassengerId                                                          \n",
      "1                1      0         A/5 21171   7.2500   NaN        S  \n",
      "2                1      0          PC 17599  71.2833   C85        C  \n",
      "3                0      0  STON/O2. 3101282   7.9250   NaN        S  \n",
      "4                1      0            113803  53.1000  C123        S  \n",
      "5                0      0            373450   8.0500   NaN        S  \n"
     ]
    }
   ],
   "source": [
    "import pandas as pd\n",
    "import numpy as np\n",
    "from matplotlib import pyplot as plt\n",
    "\n",
    "df = pd.read_csv('train.csv', index_col='PassengerId')\n",
    "print(df.head(5))"
   ]
  },
  {
   "cell_type": "code",
   "execution_count": 8,
   "id": "a0b556a6",
   "metadata": {},
   "outputs": [
    {
     "name": "stdout",
     "output_type": "stream",
     "text": [
      "<class 'pandas.core.frame.DataFrame'>\n",
      "Int64Index: 891 entries, 1 to 891\n",
      "Data columns (total 11 columns):\n",
      " #   Column    Non-Null Count  Dtype  \n",
      "---  ------    --------------  -----  \n",
      " 0   Survived  891 non-null    int64  \n",
      " 1   Pclass    891 non-null    int64  \n",
      " 2   Name      891 non-null    object \n",
      " 3   Sex       891 non-null    object \n",
      " 4   Age       714 non-null    float64\n",
      " 5   SibSp     891 non-null    int64  \n",
      " 6   Parch     891 non-null    int64  \n",
      " 7   Ticket    891 non-null    object \n",
      " 8   Fare      891 non-null    float64\n",
      " 9   Cabin     204 non-null    object \n",
      " 10  Embarked  889 non-null    object \n",
      "dtypes: float64(2), int64(4), object(5)\n",
      "memory usage: 83.5+ KB\n",
      "None\n"
     ]
    }
   ],
   "source": [
    "print(df.info())"
   ]
  },
  {
   "cell_type": "markdown",
   "id": "d90e597d",
   "metadata": {},
   "source": [
    "We see that there are a number of columns with values that are not numeric, so we must do some feature engneering. We start with the 'Name' column and extract the titles, which are the only relevent parts of this feature. "
   ]
  },
  {
   "cell_type": "code",
   "execution_count": 9,
   "id": "9fa8b7ba",
   "metadata": {},
   "outputs": [
    {
     "name": "stdout",
     "output_type": "stream",
     "text": [
      "mr              517\n",
      "miss            182\n",
      "mrs             125\n",
      "master           40\n",
      "dr                7\n",
      "rev               6\n",
      "mlle              2\n",
      "major             2\n",
      "col               2\n",
      "the countess      1\n",
      "capt              1\n",
      "ms                1\n",
      "sir               1\n",
      "lady              1\n",
      "mme               1\n",
      "don               1\n",
      "jonkheer          1\n",
      "Name: Title, dtype: int64\n",
      "mr        518\n",
      "miss      185\n",
      "mrs       126\n",
      "master     40\n",
      "titled     22\n",
      "Name: Title, dtype: int64\n"
     ]
    }
   ],
   "source": [
    "#Get rid of punctuation\n",
    "df_clean = df.copy()\n",
    "df_clean['Name'] = df_clean['Name'].str.replace('[^a-zA-Z]', ' ',regex=True).str.lower()\n",
    "\n",
    "#Find the different titles\n",
    "dup_titles = []\n",
    "for name in df_clean['Name'].values:\n",
    "    dup_titles.append(name.split('  ')[1])\n",
    "\n",
    "#Add a new feature 'Titled' to replace names\n",
    "df_clean['Title']=df_clean['Name'].map(lambda x: x.split('  ')[1])\n",
    "print(df_clean['Title'].value_counts())\n",
    "\n",
    "#Keep miss, mrs, mr, special title, master\n",
    "def replace_titles(x):\n",
    "    title=x['Title']\n",
    "    if title in ['ms', 'mlle']:\n",
    "        return 'miss'\n",
    "    elif title=='mme':\n",
    "        return 'mrs'\n",
    "    elif title=='don':\n",
    "        return 'mr'\n",
    "    elif title in ['major', 'capt', 'jonkheer', 'rev', 'col', 'the countess', 'lady', 'sir', 'dr']:\n",
    "        return 'titled'\n",
    "    else:\n",
    "        return title\n",
    "    \n",
    "df_clean['Title']=df_clean.apply(replace_titles, axis=1)\n",
    "print(df_clean['Title'].value_counts())"
   ]
  },
  {
   "cell_type": "markdown",
   "id": "e66afadd",
   "metadata": {},
   "source": [
    "Moving on to the 'Fare' feature, we notice that some values were 0, so we replace those with the median (since the data is skewed)."
   ]
  },
  {
   "cell_type": "code",
   "execution_count": 10,
   "id": "0db1e02c",
   "metadata": {},
   "outputs": [
    {
     "name": "stdout",
     "output_type": "stream",
     "text": [
      "32.204207968574636\n",
      "14.4542\n"
     ]
    }
   ],
   "source": [
    "print(df_clean['Fare'].mean())\n",
    "print(df_clean['Fare'].median())\n",
    "#We use the median because the data is skewed\n",
    "df_clean.loc[df_clean['Fare']==0,'Fare'] = df_clean.loc[df_clean['Fare']!=0,'Fare'].median()"
   ]
  },
  {
   "cell_type": "markdown",
   "id": "ac763006",
   "metadata": {},
   "source": [
    "We drop the 'Name' and 'Ticket' features, and add two new features that may be helpful."
   ]
  },
  {
   "cell_type": "code",
   "execution_count": 11,
   "id": "9c2897c4",
   "metadata": {},
   "outputs": [],
   "source": [
    "df_clean.drop(['Name','Ticket'],axis=1,inplace=True)\n",
    "df_clean['Family_Size'] = df_clean['SibSp'] + df_clean['Parch']\n",
    "df_clean['Fare_Per_Person']=df_clean['Fare']/(df_clean['Family_Size']+1)"
   ]
  },
  {
   "cell_type": "markdown",
   "id": "050839f0",
   "metadata": {},
   "source": [
    "We extract the decks from the cabin, and since only first class gets a cabin, we input 'None' for the rest of the classes. "
   ]
  },
  {
   "cell_type": "code",
   "execution_count": 12,
   "id": "93efa1fe",
   "metadata": {},
   "outputs": [
    {
     "name": "stdout",
     "output_type": "stream",
     "text": [
      "None    687\n",
      "C        59\n",
      "B        47\n",
      "D        33\n",
      "E        32\n",
      "A        15\n",
      "F        13\n",
      "G         4\n",
      "T         1\n",
      "Name: Cabin, dtype: int64\n"
     ]
    }
   ],
   "source": [
    "df_clean['Cabin'] = df_clean['Cabin'][df_clean['Cabin'].notnull()].str.extract('([A-Z])')\n",
    "df_clean['Cabin'].fillna(value='None', inplace=True)\n",
    "\n",
    "print(df_clean['Cabin'].value_counts())"
   ]
  },
  {
   "cell_type": "markdown",
   "id": "1a847931",
   "metadata": {},
   "source": [
    "We use sckit-learn's SimpleImputer to fill the missing categorical feature values with the most frequent value, and fill the missing numerical feature values with the mean."
   ]
  },
  {
   "cell_type": "code",
   "execution_count": 13,
   "id": "b04efa1e",
   "metadata": {},
   "outputs": [],
   "source": [
    "from sklearn.impute import SimpleImputer\n",
    "\n",
    "imp_cat = SimpleImputer(strategy=\"most_frequent\")\n",
    "df_clean['Embarked'] = imp_cat.fit_transform(df_clean[['Embarked']])\n",
    "#X_test_emb = imp_cat.transform(X_test_cat)\n",
    "\n",
    "#MEAN OR MEDIAN?\n",
    "imp_num = SimpleImputer()\n",
    "df_clean['Age']=imp_num.fit_transform(df_clean[['Age']])\n",
    "#X_test_num = imp_num.transform(X_test_num)"
   ]
  },
  {
   "cell_type": "markdown",
   "id": "0ba3d41e",
   "metadata": {},
   "source": [
    "We now create dummy variables for the categorical features."
   ]
  },
  {
   "cell_type": "code",
   "execution_count": 14,
   "id": "4e8de5ab",
   "metadata": {},
   "outputs": [
    {
     "name": "stdout",
     "output_type": "stream",
     "text": [
      "<class 'pandas.core.frame.DataFrame'>\n",
      "Int64Index: 891 entries, 1 to 891\n",
      "Data columns (total 23 columns):\n",
      " #   Column           Non-Null Count  Dtype  \n",
      "---  ------           --------------  -----  \n",
      " 0   Survived         891 non-null    int64  \n",
      " 1   Pclass           891 non-null    int64  \n",
      " 2   Age              891 non-null    float64\n",
      " 3   SibSp            891 non-null    int64  \n",
      " 4   Parch            891 non-null    int64  \n",
      " 5   Fare             891 non-null    float64\n",
      " 6   Family_Size      891 non-null    int64  \n",
      " 7   Fare_Per_Person  891 non-null    float64\n",
      " 8   Sex_male         891 non-null    uint8  \n",
      " 9   Cabin_B          891 non-null    uint8  \n",
      " 10  Cabin_C          891 non-null    uint8  \n",
      " 11  Cabin_D          891 non-null    uint8  \n",
      " 12  Cabin_E          891 non-null    uint8  \n",
      " 13  Cabin_F          891 non-null    uint8  \n",
      " 14  Cabin_G          891 non-null    uint8  \n",
      " 15  Cabin_None       891 non-null    uint8  \n",
      " 16  Cabin_T          891 non-null    uint8  \n",
      " 17  Embarked_Q       891 non-null    uint8  \n",
      " 18  Embarked_S       891 non-null    uint8  \n",
      " 19  Title_miss       891 non-null    uint8  \n",
      " 20  Title_mr         891 non-null    uint8  \n",
      " 21  Title_mrs        891 non-null    uint8  \n",
      " 22  Title_titled     891 non-null    uint8  \n",
      "dtypes: float64(3), int64(5), uint8(15)\n",
      "memory usage: 75.7 KB\n",
      "None\n"
     ]
    }
   ],
   "source": [
    "df_clean = pd.get_dummies(df_clean, columns=['Sex','Cabin','Embarked','Title'], drop_first=True)\n",
    "print(df_clean.info())"
   ]
  },
  {
   "cell_type": "code",
   "execution_count": 15,
   "id": "08647dc7",
   "metadata": {},
   "outputs": [],
   "source": [
    "df_clean.to_csv(\"clean_training_data.csv\")"
   ]
  },
  {
   "cell_type": "markdown",
   "id": "d6252794",
   "metadata": {},
   "source": [
    "We now look at the distributions of the numerical features. "
   ]
  },
  {
   "cell_type": "code",
   "execution_count": 16,
   "id": "c6a55619",
   "metadata": {},
   "outputs": [
    {
     "data": {
      "image/png": "[encoded data removed]",
      "text/plain": [
       "<Figure size 432x288 with 1 Axes>"
      ]
     },
     "metadata": {
      "needs_background": "light"
     },
     "output_type": "display_data"
    },
    {
     "data": {
      "image/png": "[encoded data removed]",
      "text/plain": [
       "<Figure size 432x288 with 6 Axes>"
      ]
     },
     "metadata": {
      "needs_background": "light"
     },
     "output_type": "display_data"
    },
    {
     "name": "stdout",
     "output_type": "stream",
     "text": [
      "Age                0.434488\n",
      "SibSp              3.695352\n",
      "Parch              2.749117\n",
      "Fare               4.812235\n",
      "Family_Size        2.727441\n",
      "Fare_Per_Person    7.804952\n",
      "dtype: float64\n"
     ]
    }
   ],
   "source": [
    "dist = df_clean[['Age','SibSp','Parch','Fare','Family_Size','Fare_Per_Person']]\n",
    "dist.boxplot()\n",
    "dist.hist()\n",
    "plt.show()\n",
    "print(dist.skew())"
   ]
  },
  {
   "cell_type": "markdown",
   "id": "7fe9c336",
   "metadata": {},
   "source": [
    "As they are quite heavily skewed, we implement a log transformation using scikit-learn's PowerTransformer, which significantly reduces the skewness. "
   ]
  },
  {
   "cell_type": "code",
   "execution_count": 17,
   "id": "5d4dac67",
   "metadata": {},
   "outputs": [
    {
     "data": {
      "image/png": "[encoded data removed]",
      "text/plain": [
       "<Figure size 432x288 with 1 Axes>"
      ]
     },
     "metadata": {
      "needs_background": "light"
     },
     "output_type": "display_data"
    },
    {
     "data": {
      "image/png": "[encoded data removed]",
      "text/plain": [
       "<Figure size 432x288 with 6 Axes>"
      ]
     },
     "metadata": {
      "needs_background": "light"
     },
     "output_type": "display_data"
    },
    {
     "name": "stdout",
     "output_type": "stream",
     "text": [
      "Age                0.064420\n",
      "SibSp              0.808608\n",
      "Parch              1.228795\n",
      "Fare               0.233409\n",
      "Family_Size        0.539231\n",
      "Fare_Per_Person    0.071946\n",
      "dtype: float64\n",
      "        Age     SibSp     Parch      Fare  Family_Size  Fare_Per_Person\n",
      "1 -0.556267  1.373636 -0.560253 -1.236388     0.893828        -2.002017\n",
      "2  0.657269  1.373636 -0.560253  1.394717     0.893828         1.329152\n",
      "3 -0.241577 -0.679850 -0.560253 -1.071273    -0.796169        -0.464334\n",
      "4  0.437923  1.373636 -0.560253  1.205801     0.893828         1.080442\n",
      "5  0.437923 -0.679850 -0.560253 -1.042860    -0.796169        -0.438036\n"
     ]
    }
   ],
   "source": [
    "from sklearn.preprocessing import PowerTransformer\n",
    "\n",
    "log = PowerTransformer()\n",
    "scaled_dist = pd.DataFrame(log.fit_transform(dist),columns=['Age','SibSp','Parch','Fare','Family_Size','Fare_Per_Person'],index=np.arange(1,len(df_clean)+1))\n",
    "scaled_dist.boxplot()\n",
    "scaled_dist.hist()\n",
    "plt.show()\n",
    "print(scaled_dist.skew())\n",
    "print(scaled_dist.head())"
   ]
  },
  {
   "cell_type": "markdown",
   "id": "4e736cae",
   "metadata": {},
   "source": [
    "This is what the data looks like now:"
   ]
  },
  {
   "cell_type": "code",
   "execution_count": 18,
   "id": "e9c50451",
   "metadata": {},
   "outputs": [
    {
     "name": "stdout",
     "output_type": "stream",
     "text": [
      "             Survived  Pclass       Age     SibSp     Parch      Fare  \\\n",
      "PassengerId                                                             \n",
      "1                   0       3 -0.556267  1.373636 -0.560253 -1.236388   \n",
      "2                   1       1  0.657269  1.373636 -0.560253  1.394717   \n",
      "3                   1       3 -0.241577 -0.679850 -0.560253 -1.071273   \n",
      "4                   1       1  0.437923  1.373636 -0.560253  1.205801   \n",
      "5                   0       3  0.437923 -0.679850 -0.560253 -1.042860   \n",
      "\n",
      "             Family_Size  Fare_Per_Person  Sex_male  Cabin_B  ...  Cabin_F  \\\n",
      "PassengerId                                                   ...            \n",
      "1               0.893828        -2.002017         1        0  ...        0   \n",
      "2               0.893828         1.329152         0        0  ...        0   \n",
      "3              -0.796169        -0.464334         0        0  ...        0   \n",
      "4               0.893828         1.080442         0        0  ...        0   \n",
      "5              -0.796169        -0.438036         1        0  ...        0   \n",
      "\n",
      "             Cabin_G  Cabin_None  Cabin_T  Embarked_Q  Embarked_S  Title_miss  \\\n",
      "PassengerId                                                                     \n",
      "1                  0           1        0           0           1           0   \n",
      "2                  0           0        0           0           0           0   \n",
      "3                  0           1        0           0           1           1   \n",
      "4                  0           0        0           0           1           0   \n",
      "5                  0           1        0           0           1           0   \n",
      "\n",
      "             Title_mr  Title_mrs  Title_titled  \n",
      "PassengerId                                     \n",
      "1                   1          0             0  \n",
      "2                   0          1             0  \n",
      "3                   0          0             0  \n",
      "4                   0          1             0  \n",
      "5                   1          0             0  \n",
      "\n",
      "[5 rows x 23 columns]\n"
     ]
    }
   ],
   "source": [
    "ABC = ['Age','SibSp','Parch','Fare','Family_Size','Fare_Per_Person']\n",
    "for a in ABC:\n",
    "    df_clean[a] = scaled_dist[a]\n",
    "print(df_clean.head())\n",
    "df_clean.to_csv(\"scaled_training_data.csv\")"
   ]
  },
  {
   "cell_type": "markdown",
   "id": "ac595665",
   "metadata": {},
   "source": [
    "Our data pre-processing is complete! We can now move on to model selection and evaluation!"
   ]
  }
 ],
 "metadata": {
  "kernelspec": {
   "display_name": "Python 3",
   "language": "python",
   "name": "python3"
  },
  "language_info": {
   "codemirror_mode": {
    "name": "ipython",
    "version": 3
   },
   "file_extension": ".py",
   "mimetype": "text/x-python",
   "name": "python",
   "nbconvert_exporter": "python",
   "pygments_lexer": "ipython3",
   "version": "3.8.10"
  }
 },
 "nbformat": 4,
 "nbformat_minor": 5
}
